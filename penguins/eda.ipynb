{
 "cells": [
  {
   "cell_type": "code",
   "execution_count": 2,
   "metadata": {},
   "outputs": [],
   "source": [
    "# import necessary libraries\n",
    "import numpy as np\n",
    "import pandas as pd\n",
    "import matplotlib.pyplot as plt\n",
    "import seaborn as sns"
   ]
  },
  {
   "cell_type": "code",
   "execution_count": 5,
   "metadata": {},
   "outputs": [
    {
     "name": "stdout",
     "output_type": "stream",
     "text": [
      "  species     island  bill_length_mm  bill_depth_mm  flipper_length_mm  \\\n",
      "0  Adelie  Torgersen            39.1           18.7              181.0   \n",
      "1  Adelie  Torgersen            39.5           17.4              186.0   \n",
      "2  Adelie  Torgersen            40.3           18.0              195.0   \n",
      "3  Adelie  Torgersen             NaN            NaN                NaN   \n",
      "4  Adelie  Torgersen            36.7           19.3              193.0   \n",
      "\n",
      "   body_mass_g     sex  \n",
      "0       3750.0    Male  \n",
      "1       3800.0  Female  \n",
      "2       3250.0  Female  \n",
      "3          NaN     NaN  \n",
      "4       3450.0  Female  \n"
     ]
    }
   ],
   "source": [
    "# Load the palmer_penguins_5000.csv dataframe\n",
    "df_penguins = pd.read_csv('palmer_penguins_5000.csv')\n",
    "print(df_penguins.head())"
   ]
  },
  {
   "cell_type": "code",
   "execution_count": 25,
   "metadata": {},
   "outputs": [
    {
     "name": "stdout",
     "output_type": "stream",
     "text": [
      "  species     island  bill_length_mm  bill_depth_mm  flipper_length_mm  \\\n",
      "0  Adelie  Torgersen            39.1           18.7              181.0   \n",
      "1  Adelie  Torgersen            39.5           17.4              186.0   \n",
      "2  Adelie  Torgersen            40.3           18.0              195.0   \n",
      "3  Adelie  Torgersen             NaN            NaN                NaN   \n",
      "4  Adelie  Torgersen            36.7           19.3              193.0   \n",
      "\n",
      "   body_mass_g     sex  sex_int  \n",
      "0       3750.0    Male      1.0  \n",
      "1       3800.0  Female      0.0  \n",
      "2       3250.0  Female      0.0  \n",
      "3          NaN     NaN      NaN  \n",
      "4       3450.0  Female      0.0  \n"
     ]
    }
   ],
   "source": [
    "df_penguins['sex_int'] = df_penguins['sex'].map({'Female': 0, 'Male': 1})\n",
    "print(df_penguins.head())"
   ]
  },
  {
   "cell_type": "code",
   "execution_count": 26,
   "metadata": {},
   "outputs": [
    {
     "name": "stdout",
     "output_type": "stream",
     "text": [
      "<class 'pandas.core.frame.DataFrame'>\n",
      "RangeIndex: 5000 entries, 0 to 4999\n",
      "Data columns (total 8 columns):\n",
      " #   Column             Non-Null Count  Dtype  \n",
      "---  ------             --------------  -----  \n",
      " 0   species            5000 non-null   object \n",
      " 1   island             5000 non-null   object \n",
      " 2   bill_length_mm     4967 non-null   float64\n",
      " 3   bill_depth_mm      4967 non-null   float64\n",
      " 4   flipper_length_mm  4967 non-null   float64\n",
      " 5   body_mass_g        4967 non-null   float64\n",
      " 6   sex                4836 non-null   object \n",
      " 7   sex_int            4836 non-null   float64\n",
      "dtypes: float64(5), object(3)\n",
      "memory usage: 312.6+ KB\n"
     ]
    }
   ],
   "source": [
    "df_penguins.info()"
   ]
  },
  {
   "cell_type": "code",
   "execution_count": null,
   "metadata": {},
   "outputs": [
    {
     "name": "stdout",
     "output_type": "stream",
     "text": [
      "\n",
      "Proportion Penguins\n",
      "species\n",
      "Adelie       0.4418\n",
      "Gentoo       0.3618\n",
      "Chinstrap    0.1964\n",
      "Name: count, dtype: float64\n",
      "\n"
     ]
    }
   ],
   "source": [
    "# Print the proportion of each species in the df_penguins dataframe\n",
    "print(f'''\n",
    "Proportion Penguins\n",
    "{((df_penguins['species'].value_counts()/len(df_penguins)).sort_values(ascending=False))}\n",
    "''')\n"
   ]
  },
  {
   "cell_type": "code",
   "execution_count": 28,
   "metadata": {},
   "outputs": [],
   "source": [
    "# Stratified Sampling Function\n",
    "def data_strat(df_penguins, strat_columns_name, strat_values, prop_strat, random_state=None):\n",
    "    \n",
    "    df_estrat = pd.DataFrame(columns=df_penguins.columns) # Create an empty data frame with the names of the columns of df_penguins\n",
    "    \n",
    "    pos = -1\n",
    "    for i in range(len(strat_values)): # Iterate over the input of stratified values\n",
    "        pos += 1\n",
    "        if pos == len(strat_values) -1:\n",
    "            ratio_len = len(df_penguins) - len(df_estrat) # Calculates the number of output values having the same number of rows as input\n",
    "        else:\n",
    "            ratio_len = int(len(df_penguins) * prop_strat[i]) # calculates the number of rows according to the desired ratio\n",
    "        \n",
    "        df_filter = df_penguins[df_penguins[strat_columns_name] == strat_values[i]] # filters the source data based on the values selected in the data layer\n",
    "        df_temp = df_filter.sample(replace=True, n=ratio_len, random_state=random_state) # sample the filtered data using the ratio we have calculated\n",
    "\n",
    "        df_estrat = pd.concat([df_estrat, df_temp]) # concat the sample tables with the stratified one to produce the final result\n",
    "\n",
    "    return df_estrat # Return the stratified, re-sampled data  "
   ]
  },
  {
   "cell_type": "code",
   "execution_count": 30,
   "metadata": {},
   "outputs": [
    {
     "name": "stdout",
     "output_type": "stream",
     "text": [
      "\n",
      "Proportion sample penguins\n",
      "species\n",
      "Gentoo       0.334\n",
      "Adelie       0.333\n",
      "Chinstrap    0.333\n",
      "Name: count, dtype: float64\n",
      "\n"
     ]
    },
    {
     "name": "stderr",
     "output_type": "stream",
     "text": [
      "C:\\Users\\Philip\\AppData\\Local\\Temp\\ipykernel_30792\\4016957455.py:17: FutureWarning: The behavior of DataFrame concatenation with empty or all-NA entries is deprecated. In a future version, this will no longer exclude empty or all-NA columns when determining the result dtypes. To retain the old behavior, exclude the relevant entries before the concat operation.\n",
      "  df_estrat = pd.concat([df_estrat, df_temp]) # concat the sample tables with the stratified one to produce the final result\n"
     ]
    }
   ],
   "source": [
    "# Define the stratified values and proportions\n",
    "strat_values = ['Adelie', 'Chinstrap', 'Gentoo']\n",
    "strat_prop = [0.333, 0.333, 0.333]\n",
    "\n",
    "# Perform stratified sampling on the penguins dataframe\n",
    "df_strat = data_strat(df_penguins, 'species', strat_values, strat_prop, random_state=42)\n",
    "\n",
    "# Print the proportion of each species in the stratified sample\n",
    "print(f'''\n",
    "Proportion sample penguins\n",
    "{((df_strat['species'].value_counts()/len(df_strat)).sort_values(ascending=False))}\n",
    "''')\n"
   ]
  },
  {
   "cell_type": "code",
   "execution_count": 31,
   "metadata": {},
   "outputs": [
    {
     "name": "stdout",
     "output_type": "stream",
     "text": [
      "Optimization terminated successfully.\n",
      "         Current function value: 0.193555\n",
      "         Iterations 9\n"
     ]
    }
   ],
   "source": [
    "from sklearn.model_selection import train_test_split\n",
    "import statsmodels.formula.api as smf\n",
    "\n",
    "# Split the data into train and test sets\n",
    "train, test = train_test_split(df_penguins, train_size=0.5, random_state=1)\n",
    "\n",
    "# Fit the logistic regression model\n",
    "logit_model = smf.logit(\n",
    "    formula='sex_int ~ flipper_length_mm + body_mass_g + bill_length_mm + bill_depth_mm + species + island',\n",
    "    data=train\n",
    ").fit()\n",
    "\n",
    "# Predict on the test set\n",
    "test_predict = logit_model.predict(test).round()\n"
   ]
  },
  {
   "cell_type": "code",
   "execution_count": 33,
   "metadata": {},
   "outputs": [
    {
     "data": {
      "text/plain": [
       "0.8996"
      ]
     },
     "execution_count": 33,
     "metadata": {},
     "output_type": "execute_result"
    }
   ],
   "source": [
    "from sklearn.metrics import accuracy_score\n",
    "\n",
    "# Fill NaN values in test_predict with the most frequent class (mode)\n",
    "test_predict = test_predict.fillna(test_predict.mode()[0])\n",
    "\n",
    "# Fill NaN values in test.sex_int with the most frequent class (mode)\n",
    "test['sex_int'] = test['sex_int'].fillna(test['sex_int'].mode()[0])\n",
    "\n",
    "accuracy_score(\n",
    "    test.sex_int,\n",
    "    test_predict\n",
    ")"
   ]
  },
  {
   "cell_type": "code",
   "execution_count": 34,
   "metadata": {},
   "outputs": [
    {
     "data": {
      "text/plain": [
       "<Axes: title={'center': 'Confusion Matrix'}>"
      ]
     },
     "execution_count": 34,
     "metadata": {},
     "output_type": "execute_result"
    },
    {
     "data": {
      "image/png": "[encoded data removed]",
      "text/plain": [
       "<Figure size 500x500 with 2 Axes>"
      ]
     },
     "metadata": {},
     "output_type": "display_data"
    }
   ],
   "source": [
    "from sklearn.metrics import confusion_matrix\n",
    "\n",
    "plt.figure(figsize=(5,5))\n",
    "plt.title('Confusion Matrix')\n",
    "sns.heatmap(\n",
    "    confusion_matrix(test['sex_int'], test_predict),\n",
    "    annot=True,\n",
    "    fmt='d'\n",
    ")"
   ]
  }
 ],
 "metadata": {
  "kernelspec": {
   "display_name": ".venv",
   "language": "python",
   "name": "python3"
  },
  "language_info": {
   "codemirror_mode": {
    "name": "ipython",
    "version": 3
   },
   "file_extension": ".py",
   "mimetype": "text/x-python",
   "name": "python",
   "nbconvert_exporter": "python",
   "pygments_lexer": "ipython3",
   "version": "3.12.7"
  }
 },
 "nbformat": 4,
 "nbformat_minor": 2
}
